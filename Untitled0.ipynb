{
  "nbformat": 4,
  "nbformat_minor": 0,
  "metadata": {
    "colab": {
      "provenance": [],
      "authorship_tag": "ABX9TyMMnn6c6ex380lvEzDz2Qft",
      "include_colab_link": true
    },
    "kernelspec": {
      "name": "python3",
      "display_name": "Python 3"
    },
    "language_info": {
      "name": "python"
    }
  },
  "cells": [
    {
      "cell_type": "markdown",
      "metadata": {
        "id": "view-in-github",
        "colab_type": "text"
      },
      "source": [
        "<a href=\"https://colab.research.google.com/github/macwinkler1/macwinkler1/blob/main/Untitled0.ipynb\" target=\"_parent\"><img src=\"https://colab.research.google.com/assets/colab-badge.svg\" alt=\"Open In Colab\"/></a>"
      ]
    },
    {
      "cell_type": "code",
      "execution_count": 1,
      "metadata": {
        "id": "dPsc0rFjQzxu",
        "colab": {
          "base_uri": "https://localhost:8080/"
        },
        "outputId": "0c88a107-cf05-475e-9741-059a2df1900f"
      },
      "outputs": [
        {
          "output_type": "stream",
          "name": "stdout",
          "text": [
            "/usr/local/bin/python\n",
            "Python 3.10.11\n",
            "env: PYTHONPATH=\n"
          ]
        }
      ],
      "source": [
        "#import torch\n",
        "#print(torch.rand(3, 3).cuda())\n",
        "#print()\n",
        "\n",
        "!which python\n",
        "!python --version\n",
        "%env PYTHONPATH=\n",
        "\n"
      ]
    },
    {
      "cell_type": "code",
      "source": [
        "!wget https://repo.anaconda.com/archive/Anaconda3-2022.10-Linux-x86_64.sh"
      ],
      "metadata": {
        "id": "KXuG69tpYVWr"
      },
      "execution_count": null,
      "outputs": []
    }
  ]
}