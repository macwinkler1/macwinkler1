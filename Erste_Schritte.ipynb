{
  "nbformat": 4,
  "nbformat_minor": 0,
  "metadata": {
    "colab": {
      "provenance": [],
      "authorship_tag": "ABX9TyPiNGl2G0yC6kAMc8EPQiUt",
      "include_colab_link": true
    },
    "kernelspec": {
      "name": "python3",
      "display_name": "Python 3"
    },
    "language_info": {
      "name": "python"
    }
  },
  "cells": [
    {
      "cell_type": "markdown",
      "metadata": {
        "id": "view-in-github",
        "colab_type": "text"
      },
      "source": [
        "<a href=\"https://colab.research.google.com/github/macwinkler1/macwinkler1/blob/main/Erste_Schritte.ipynb\" target=\"_parent\"><img src=\"https://colab.research.google.com/assets/colab-badge.svg\" alt=\"Open In Colab\"/></a>"
      ]
    },
    {
      "cell_type": "code",
      "execution_count": null,
      "metadata": {
        "id": "kej2KI7HRh9w"
      },
      "outputs": [],
      "source": []
    },
    {
      "cell_type": "code",
      "metadata": {
        "colab": {
          "base_uri": "https://localhost:8080/",
          "height": 83
        },
        "outputId": "cec6d14c-dae3-41e3-a3ac-449dd68de0db",
        "id": "vCN6xkBxUfsQ"
      },
      "source": [
        "import html\n",
        "from IPython import display\n",
        "html_table = ''' <table style=\"width:25%\">\n",
        "  <tr>\n",
        "    <th>Name des Studierenden</th>\n",
        "    <th>Primäres Interesse</th>\n",
        "    <th>Sekundäres Interesse</th>\n",
        "  </tr>\n",
        "  <tr>\n",
        "    <td>Markus</td>\n",
        "    <td>Programming</td>\n",
        "    <td>Python</td>\n",
        "  </tr>\n",
        "  <tr>\n",
        "    <td>bin ich auch</td>\n",
        "    <td>Linux</td>\n",
        "    <td>Monty-Python</td>\n",
        "  </tr>\n",
        "</table> '''\n",
        "\n",
        "display.HTML(data=html_table)"
      ],
      "execution_count": 7,
      "outputs": [
        {
          "output_type": "execute_result",
          "data": {
            "text/plain": [
              "<IPython.core.display.HTML object>"
            ],
            "text/html": [
              " <table style=\"width:25%\">\n",
              "  <tr>\n",
              "    <th>Name des Studierenden</th>\n",
              "    <th>Primäres Interesse</th>\n",
              "    <th>Sekundäres Interesse</th>\n",
              "  </tr>\n",
              "  <tr>\n",
              "    <td>Markus</td>\n",
              "    <td>Programming</td>\n",
              "    <td>Python</td>\n",
              "  </tr>\n",
              "  <tr>\n",
              "    <td>bin ich auch</td>\n",
              "    <td>Linux</td>\n",
              "    <td>Monty-Python</td>\n",
              "  </tr>\n",
              "</table> "
            ]
          },
          "metadata": {},
          "execution_count": 7
        }
      ]
    },
    {
      "cell_type": "code",
      "source": [
        "eingabe = input(\"Gebe eine Zahl ein: \")\n",
        "Quersumme = 0\n",
        "for i in eingabe: #1234\n",
        "  Quersumme = Quersumme + int(i)\n",
        "print (\" Die Quersumme deiner eingegeben Zahl ist:\", Quersumme)   "
      ],
      "metadata": {
        "colab": {
          "base_uri": "https://localhost:8080/"
        },
        "id": "S5BYcWSaZ3qs",
        "outputId": "e03d734d-5978-46bb-b579-21bea6fea305"
      },
      "execution_count": 9,
      "outputs": [
        {
          "output_type": "stream",
          "name": "stdout",
          "text": [
            "Gebe eine Zahl ein: 27\n",
            " Die Quersumme deinr eingegeben Zahl ist: 9\n"
          ]
        }
      ]
    },
    {
      "cell_type": "code",
      "source": [],
      "metadata": {
        "id": "VnXTqElsXz9e"
      },
      "execution_count": null,
      "outputs": []
    }
  ]
}